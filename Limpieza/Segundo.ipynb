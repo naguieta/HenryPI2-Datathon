{
 "cells": [
  {
   "cell_type": "markdown",
   "metadata": {},
   "source": [
    "Leemos el archivo recibido"
   ]
  },
  {
   "cell_type": "code",
   "execution_count": 1,
   "metadata": {},
   "outputs": [],
   "source": [
    "import pandas as pd\n",
    "dftrain = pd.read_parquet('../proyecto_ML/train.parquet')"
   ]
  },
  {
   "cell_type": "markdown",
   "metadata": {},
   "source": [
    "Se cuentan las propiedades duplicadas en base a sus caracteristicas, se excluye el precio ya que este puede ser modificado por mejoras, inflación u otros factores."
   ]
  },
  {
   "cell_type": "code",
   "execution_count": 2,
   "metadata": {},
   "outputs": [
    {
     "data": {
      "text/plain": [
       "125793"
      ]
     },
     "execution_count": 2,
     "metadata": {},
     "output_type": "execute_result"
    }
   ],
   "source": [
    "dupes = dftrain.duplicated(subset=['image_url','sqfeet','beds','baths','wheelchair_access','parking_options','laundry_options','state','region'], keep='first')\n",
    "dupes.sum()"
   ]
  },
  {
   "cell_type": "markdown",
   "metadata": {},
   "source": [
    "Se obtienen duplicados con diferentes condiciones de ordenamiento para verificar los datos de descripción."
   ]
  },
  {
   "cell_type": "code",
   "execution_count": 3,
   "metadata": {},
   "outputs": [
    {
     "data": {
      "text/html": [
       "<div>\n",
       "<style scoped>\n",
       "    .dataframe tbody tr th:only-of-type {\n",
       "        vertical-align: middle;\n",
       "    }\n",
       "\n",
       "    .dataframe tbody tr th {\n",
       "        vertical-align: top;\n",
       "    }\n",
       "\n",
       "    .dataframe thead th {\n",
       "        text-align: right;\n",
       "    }\n",
       "</style>\n",
       "<table border=\"1\" class=\"dataframe\">\n",
       "  <thead>\n",
       "    <tr style=\"text-align: right;\">\n",
       "      <th></th>\n",
       "      <th>id</th>\n",
       "      <th>price</th>\n",
       "      <th>description</th>\n",
       "      <th>image_url</th>\n",
       "    </tr>\n",
       "  </thead>\n",
       "  <tbody>\n",
       "    <tr>\n",
       "      <th>262100</th>\n",
       "      <td>7028985169</td>\n",
       "      <td>960</td>\n",
       "      <td>Welcome home to Fort Lane!  # of Bedrooms: 2  ...</td>\n",
       "      <td>https://images.craigslist.org/00000_11wT9EUycb...</td>\n",
       "    </tr>\n",
       "    <tr>\n",
       "      <th>334182</th>\n",
       "      <td>7035784866</td>\n",
       "      <td>791</td>\n",
       "      <td>Autumn Ridge Apartments II â Starting at $79...</td>\n",
       "      <td>https://images.craigslist.org/00000_16h4w7k2zi...</td>\n",
       "    </tr>\n",
       "    <tr>\n",
       "      <th>310552</th>\n",
       "      <td>7043510251</td>\n",
       "      <td>950</td>\n",
       "      <td>Generously sized one bedroom one bath apartmen...</td>\n",
       "      <td>https://images.craigslist.org/00000_1AJZPS1aUT...</td>\n",
       "    </tr>\n",
       "    <tr>\n",
       "      <th>313041</th>\n",
       "      <td>7027637333</td>\n",
       "      <td>631</td>\n",
       "      <td>Villa West is accepting applications for our w...</td>\n",
       "      <td>https://images.craigslist.org/00000_1AuetpjLvW...</td>\n",
       "    </tr>\n",
       "    <tr>\n",
       "      <th>137219</th>\n",
       "      <td>7051102343</td>\n",
       "      <td>631</td>\n",
       "      <td>Villa West is accepting applications for our w...</td>\n",
       "      <td>https://images.craigslist.org/00000_1AuetpjLvW...</td>\n",
       "    </tr>\n",
       "    <tr>\n",
       "      <th>...</th>\n",
       "      <td>...</td>\n",
       "      <td>...</td>\n",
       "      <td>...</td>\n",
       "      <td>...</td>\n",
       "    </tr>\n",
       "    <tr>\n",
       "      <th>71095</th>\n",
       "      <td>7031402971</td>\n",
       "      <td>800</td>\n",
       "      <td>Lincoln Heights Apartments KEY FEATURES Bedroo...</td>\n",
       "      <td>https://images.craigslist.org/00000_2XyOos053d...</td>\n",
       "    </tr>\n",
       "    <tr>\n",
       "      <th>256272</th>\n",
       "      <td>7039699134</td>\n",
       "      <td>750</td>\n",
       "      <td>Lincoln Heights Apartments KEY FEATURES Bedroo...</td>\n",
       "      <td>https://images.craigslist.org/00000_2XyOos053d...</td>\n",
       "    </tr>\n",
       "    <tr>\n",
       "      <th>70798</th>\n",
       "      <td>7050720117</td>\n",
       "      <td>1900</td>\n",
       "      <td>***** THIS HOUSE IS AVAILABLE JULY 2020 ***** ...</td>\n",
       "      <td>https://images.craigslist.org/00000_2bomz1oXuc...</td>\n",
       "    </tr>\n",
       "    <tr>\n",
       "      <th>226786</th>\n",
       "      <td>7050719956</td>\n",
       "      <td>1900</td>\n",
       "      <td>***** THIS HOUSE IS AVAILABLE  JULY 2020 *****...</td>\n",
       "      <td>https://images.craigslist.org/00000_2bomz1oXuc...</td>\n",
       "    </tr>\n",
       "    <tr>\n",
       "      <th>95869</th>\n",
       "      <td>7050701520</td>\n",
       "      <td>1900</td>\n",
       "      <td>***** THIS HOUSE  IS NOW AVAILABLE JULY 2020 *...</td>\n",
       "      <td>https://images.craigslist.org/00000_2bomz1oXuc...</td>\n",
       "    </tr>\n",
       "  </tbody>\n",
       "</table>\n",
       "<p>100 rows × 4 columns</p>\n",
       "</div>"
      ],
      "text/plain": [
       "                id  price                                        description  \\\n",
       "262100  7028985169    960  Welcome home to Fort Lane!  # of Bedrooms: 2  ...   \n",
       "334182  7035784866    791  Autumn Ridge Apartments II â Starting at $79...   \n",
       "310552  7043510251    950  Generously sized one bedroom one bath apartmen...   \n",
       "313041  7027637333    631  Villa West is accepting applications for our w...   \n",
       "137219  7051102343    631  Villa West is accepting applications for our w...   \n",
       "...            ...    ...                                                ...   \n",
       "71095   7031402971    800  Lincoln Heights Apartments KEY FEATURES Bedroo...   \n",
       "256272  7039699134    750  Lincoln Heights Apartments KEY FEATURES Bedroo...   \n",
       "70798   7050720117   1900  ***** THIS HOUSE IS AVAILABLE JULY 2020 ***** ...   \n",
       "226786  7050719956   1900  ***** THIS HOUSE IS AVAILABLE  JULY 2020 *****...   \n",
       "95869   7050701520   1900  ***** THIS HOUSE  IS NOW AVAILABLE JULY 2020 *...   \n",
       "\n",
       "                                                image_url  \n",
       "262100  https://images.craigslist.org/00000_11wT9EUycb...  \n",
       "334182  https://images.craigslist.org/00000_16h4w7k2zi...  \n",
       "310552  https://images.craigslist.org/00000_1AJZPS1aUT...  \n",
       "313041  https://images.craigslist.org/00000_1AuetpjLvW...  \n",
       "137219  https://images.craigslist.org/00000_1AuetpjLvW...  \n",
       "...                                                   ...  \n",
       "71095   https://images.craigslist.org/00000_2XyOos053d...  \n",
       "256272  https://images.craigslist.org/00000_2XyOos053d...  \n",
       "70798   https://images.craigslist.org/00000_2bomz1oXuc...  \n",
       "226786  https://images.craigslist.org/00000_2bomz1oXuc...  \n",
       "95869   https://images.craigslist.org/00000_2bomz1oXuc...  \n",
       "\n",
       "[100 rows x 4 columns]"
      ]
     },
     "execution_count": 3,
     "metadata": {},
     "output_type": "execute_result"
    }
   ],
   "source": [
    "#Obtener duplicados\n",
    "dfIds = dftrain['id']\n",
    "dfdupes = dftrain[dfIds.isin(dfIds[dftrain.duplicated(subset=['image_url','sqfeet','beds','baths','wheelchair_access','parking_options','laundry_options','state','region'])])].sort_values('description')\n",
    "dfdupes[['id', 'price','description', 'image_url']].sort_values('image_url').head(100)"
   ]
  },
  {
   "cell_type": "markdown",
   "metadata": {},
   "source": [
    "Se extraen los duplicados manteniendo el valor mas alto de cada grupo duplicado y se verifican las eliminaciones por ID."
   ]
  },
  {
   "cell_type": "code",
   "execution_count": 4,
   "metadata": {},
   "outputs": [
    {
     "data": {
      "text/html": [
       "<div>\n",
       "<style scoped>\n",
       "    .dataframe tbody tr th:only-of-type {\n",
       "        vertical-align: middle;\n",
       "    }\n",
       "\n",
       "    .dataframe tbody tr th {\n",
       "        vertical-align: top;\n",
       "    }\n",
       "\n",
       "    .dataframe thead th {\n",
       "        text-align: right;\n",
       "    }\n",
       "</style>\n",
       "<table border=\"1\" class=\"dataframe\">\n",
       "  <thead>\n",
       "    <tr style=\"text-align: right;\">\n",
       "      <th></th>\n",
       "      <th>id</th>\n",
       "      <th>url</th>\n",
       "      <th>region</th>\n",
       "      <th>region_url</th>\n",
       "      <th>price</th>\n",
       "      <th>type</th>\n",
       "      <th>sqfeet</th>\n",
       "      <th>beds</th>\n",
       "      <th>baths</th>\n",
       "      <th>cats_allowed</th>\n",
       "      <th>...</th>\n",
       "      <th>wheelchair_access</th>\n",
       "      <th>electric_vehicle_charge</th>\n",
       "      <th>comes_furnished</th>\n",
       "      <th>laundry_options</th>\n",
       "      <th>parking_options</th>\n",
       "      <th>image_url</th>\n",
       "      <th>description</th>\n",
       "      <th>lat</th>\n",
       "      <th>long</th>\n",
       "      <th>state</th>\n",
       "    </tr>\n",
       "  </thead>\n",
       "  <tbody>\n",
       "    <tr>\n",
       "      <th>71095</th>\n",
       "      <td>7031402971</td>\n",
       "      <td>https://wichitafalls.craigslist.org/apa/d/wich...</td>\n",
       "      <td>wichita falls</td>\n",
       "      <td>https://wichitafalls.craigslist.org</td>\n",
       "      <td>800</td>\n",
       "      <td>apartment</td>\n",
       "      <td>725</td>\n",
       "      <td>2</td>\n",
       "      <td>1.5</td>\n",
       "      <td>1</td>\n",
       "      <td>...</td>\n",
       "      <td>0</td>\n",
       "      <td>0</td>\n",
       "      <td>0</td>\n",
       "      <td>laundry on site</td>\n",
       "      <td>off-street parking</td>\n",
       "      <td>https://images.craigslist.org/00000_2XyOos053d...</td>\n",
       "      <td>Lincoln Heights Apartments KEY FEATURES Bedroo...</td>\n",
       "      <td>33.9519</td>\n",
       "      <td>-98.5145</td>\n",
       "      <td>tx</td>\n",
       "    </tr>\n",
       "  </tbody>\n",
       "</table>\n",
       "<p>1 rows × 22 columns</p>\n",
       "</div>"
      ],
      "text/plain": [
       "               id                                                url  \\\n",
       "71095  7031402971  https://wichitafalls.craigslist.org/apa/d/wich...   \n",
       "\n",
       "              region                           region_url  price       type  \\\n",
       "71095  wichita falls  https://wichitafalls.craigslist.org    800  apartment   \n",
       "\n",
       "       sqfeet  beds  baths  cats_allowed  ...  wheelchair_access  \\\n",
       "71095     725     2    1.5             1  ...                  0   \n",
       "\n",
       "       electric_vehicle_charge  comes_furnished  laundry_options  \\\n",
       "71095                        0                0  laundry on site   \n",
       "\n",
       "          parking_options                                          image_url  \\\n",
       "71095  off-street parking  https://images.craigslist.org/00000_2XyOos053d...   \n",
       "\n",
       "                                             description      lat     long  \\\n",
       "71095  Lincoln Heights Apartments KEY FEATURES Bedroo...  33.9519 -98.5145   \n",
       "\n",
       "       state  \n",
       "71095     tx  \n",
       "\n",
       "[1 rows x 22 columns]"
      ]
     },
     "execution_count": 4,
     "metadata": {},
     "output_type": "execute_result"
    }
   ],
   "source": [
    "#Sacar duplicados manteniendo el valor mas alto y verificar cual queda\n",
    "dftrain2 = dftrain.sort_values(by=['price'], ascending=False,ignore_index=False)\n",
    "dftrain2 = dftrain2.drop_duplicates(subset=['image_url','sqfeet','beds','baths','wheelchair_access','parking_options','laundry_options','state','region'], keep='first')\n",
    "dftrain2.loc[dftrain2['id'].isin([7031402971,7039699134])]\n"
   ]
  },
  {
   "cell_type": "markdown",
   "metadata": {},
   "source": [
    "Corroborar cantidad de eliminados."
   ]
  },
  {
   "cell_type": "code",
   "execution_count": 5,
   "metadata": {},
   "outputs": [
    {
     "name": "stdout",
     "output_type": "stream",
     "text": [
      "346479\n",
      "220686\n",
      "125793\n"
     ]
    }
   ],
   "source": [
    "#Corroborar original, duplicados y restantes\n",
    "print(len(dftrain.index))\n",
    "print(len(dftrain2.index))\n",
    "print(len(dfdupes.index))"
   ]
  },
  {
   "cell_type": "markdown",
   "metadata": {},
   "source": [
    "Verificar cantidad de nulos restantes."
   ]
  },
  {
   "cell_type": "code",
   "execution_count": 6,
   "metadata": {},
   "outputs": [
    {
     "data": {
      "text/plain": [
       "id                             0\n",
       "url                            0\n",
       "region                         0\n",
       "region_url                     0\n",
       "price                          0\n",
       "type                           0\n",
       "sqfeet                         0\n",
       "beds                           0\n",
       "baths                          0\n",
       "cats_allowed                   0\n",
       "dogs_allowed                   0\n",
       "smoking_allowed                0\n",
       "wheelchair_access              0\n",
       "electric_vehicle_charge        0\n",
       "comes_furnished                0\n",
       "laundry_options            47515\n",
       "parking_options            79270\n",
       "image_url                      0\n",
       "description                    2\n",
       "lat                         1088\n",
       "long                        1088\n",
       "state                          0\n",
       "dtype: int64"
      ]
     },
     "execution_count": 6,
     "metadata": {},
     "output_type": "execute_result"
    }
   ],
   "source": [
    "dftrain2.isna().sum()"
   ]
  },
  {
   "cell_type": "markdown",
   "metadata": {},
   "source": [
    "Se eliminan las filas con coordenadas fuera de Estados Unidos como se hizo en el EDA.\n",
    "*En este caso no se eliminan los nulos*"
   ]
  },
  {
   "cell_type": "code",
   "execution_count": 7,
   "metadata": {},
   "outputs": [
    {
     "name": "stdout",
     "output_type": "stream",
     "text": [
      "Cantidad original: 220686\n",
      "Cantidad filtrada: 219509\n"
     ]
    },
    {
     "name": "stderr",
     "output_type": "stream",
     "text": [
      "C:\\Users\\Nahuel\\AppData\\Local\\Temp\\ipykernel_24176\\1714816055.py:3: UserWarning: Boolean Series key will be reindexed to match DataFrame index.\n",
      "  df2 = dftrain2[ ((dftrain['lat'] < 49.38) & (dftrain2['lat'] > 24.52) & (dftrain2['long'] < -66.94 ) & (dftrain2['long'] > -124.73 )) | (dftrain2['state'] == 'hi') | (dftrain2['state'] == 'ak') ]\n"
     ]
    }
   ],
   "source": [
    "df2 = dftrain2[ ((dftrain['lat'] < 49.38) & (dftrain2['lat'] > 24.52) & (dftrain2['long'] < -66.94 ) & (dftrain2['long'] > -124.73 )) | (dftrain2['state'] == 'hi') | (dftrain2['state'] == 'ak') ]\n",
    "\n",
    "print('Cantidad original: ' + str(len(dftrain2.index)))\n",
    "print('Cantidad filtrada: ' + str(len(df2.index)))"
   ]
  },
  {
   "cell_type": "markdown",
   "metadata": {},
   "source": [
    "Se eliminan los outliers como se hizo en el EDA."
   ]
  },
  {
   "cell_type": "code",
   "execution_count": 8,
   "metadata": {},
   "outputs": [
    {
     "name": "stdout",
     "output_type": "stream",
     "text": [
      "cantidad de precios excluidos\n",
      "5666\n",
      "cantidad de pies cuadrados excluidos\n",
      "3081\n",
      "cantidad de camas excluidos\n",
      "-20\n",
      "cantidad de banos excluidos\n",
      "-20\n",
      "Cantidad de filas final :\n",
      "211364\n"
     ]
    }
   ],
   "source": [
    "df_filtered = df2.loc[(df2['price'].between(50,3000)) & (df2['sqfeet'].between(100,2500)) & (df2['beds'].between(0,100)) & (df2['baths'].between(0,10))]\n",
    "print(\"cantidad de precios excluidos\")\n",
    "print(219486 - len(df2[df2['price'].between(50,3000)].index))\n",
    "print(\"cantidad de pies cuadrados excluidos\")\n",
    "print(219486 - len(df2[df2['sqfeet'].between(100,2500)].index))\n",
    "print(\"cantidad de camas excluidos\")\n",
    "print(219486 - len(df2[df2['beds'].between(0,100)].index))\n",
    "print(\"cantidad de banos excluidos\")\n",
    "print(219486 - len(df2[df2['baths'].between(0,10)].index))\n",
    "print(\"Cantidad de filas final :\")\n",
    "print(len(df_filtered.index))"
   ]
  },
  {
   "cell_type": "markdown",
   "metadata": {},
   "source": [
    "Se verifican los valores de dos columnas."
   ]
  },
  {
   "cell_type": "code",
   "execution_count": 9,
   "metadata": {},
   "outputs": [
    {
     "name": "stdout",
     "output_type": "stream",
     "text": [
      "['laundry in bldg' 'laundry on site' 'no laundry on site' 'w/d hookups'\n",
      " 'w/d in unit' None]\n",
      "['attached garage' 'carport' 'detached garage' 'no parking'\n",
      " 'off-street parking' 'street parking' 'valet parking' None]\n"
     ]
    }
   ],
   "source": [
    "print(pd.unique(df_filtered['laundry_options'].sort_values()))\n",
    "print(pd.unique(df_filtered['parking_options'].sort_values()))"
   ]
  },
  {
   "cell_type": "markdown",
   "metadata": {},
   "source": [
    "Se ajustan los valores nulos para que coincidan."
   ]
  },
  {
   "cell_type": "code",
   "execution_count": 10,
   "metadata": {},
   "outputs": [
    {
     "name": "stderr",
     "output_type": "stream",
     "text": [
      "C:\\Users\\Nahuel\\AppData\\Local\\Temp\\ipykernel_24176\\12136549.py:5: SettingWithCopyWarning: \n",
      "A value is trying to be set on a copy of a slice from a DataFrame\n",
      "\n",
      "See the caveats in the documentation: https://pandas.pydata.org/pandas-docs/stable/user_guide/indexing.html#returning-a-view-versus-a-copy\n",
      "  df_filtered.laundry_options.replace({np.nan: None}, inplace=True)\n",
      "C:\\Users\\Nahuel\\AppData\\Local\\Temp\\ipykernel_24176\\12136549.py:6: SettingWithCopyWarning: \n",
      "A value is trying to be set on a copy of a slice from a DataFrame\n",
      "\n",
      "See the caveats in the documentation: https://pandas.pydata.org/pandas-docs/stable/user_guide/indexing.html#returning-a-view-versus-a-copy\n",
      "  df_filtered.parking_options.replace({np.nan: None}, inplace=True)\n"
     ]
    }
   ],
   "source": [
    "import numpy as np\n",
    "df_filtered.laundry_options.replace({np.nan: None}, inplace=True)\n",
    "df_filtered.parking_options.replace({np.nan: None}, inplace=True)"
   ]
  },
  {
   "cell_type": "markdown",
   "metadata": {},
   "source": [
    "Se quitan las filas con regiones que no estan incluidas en el archivo de pruebas."
   ]
  },
  {
   "cell_type": "code",
   "execution_count": 11,
   "metadata": {},
   "outputs": [
    {
     "name": "stdout",
     "output_type": "stream",
     "text": [
      "211364\n",
      "211282\n"
     ]
    }
   ],
   "source": [
    "print(len(df_filtered.index))\n",
    "df_filtered = df_filtered[~df_filtered['region'].isin(['fort smith, AR','kansas city','salina','southwest TX','st louis','western IL'])]\n",
    "print(len(df_filtered.index))"
   ]
  },
  {
   "cell_type": "markdown",
   "metadata": {},
   "source": [
    "Se genera el archivo csv para ser procesado."
   ]
  },
  {
   "cell_type": "code",
   "execution_count": 13,
   "metadata": {},
   "outputs": [],
   "source": [
    "df_filtered.to_csv('../Datasets/deSegundo.csv', index=False)"
   ]
  }
 ],
 "metadata": {
  "kernelspec": {
   "display_name": "Python 3.10.4 64-bit",
   "language": "python",
   "name": "python3"
  },
  "language_info": {
   "codemirror_mode": {
    "name": "ipython",
    "version": 3
   },
   "file_extension": ".py",
   "mimetype": "text/x-python",
   "name": "python",
   "nbconvert_exporter": "python",
   "pygments_lexer": "ipython3",
   "version": "3.10.4"
  },
  "orig_nbformat": 4,
  "vscode": {
   "interpreter": {
    "hash": "012f29fa124df80e053fa08be2a3f0c6744604e00976ac4c44ee25b4dd9797b6"
   }
  }
 },
 "nbformat": 4,
 "nbformat_minor": 2
}
