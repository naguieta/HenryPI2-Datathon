{
 "cells": [
  {
   "cell_type": "markdown",
   "metadata": {},
   "source": [
    "Se leen los archivos recibidos. <br>\n",
    "Se crea la columna category_price que contendrá el valor 0 para las propiedades con un precio menor a 1000, con valor 1 para las propiedades con un valor mayor o igual a 1000 y menor a 2000 y con valor 2 para los demas precios. <br>\n",
    "Se codifica a ordinal los valores de las columnas state, region, type, laundry_options y parking_options manteniendo la correlación con el archivo de pruebas."
   ]
  },
  {
   "cell_type": "code",
   "execution_count": 1,
   "metadata": {},
   "outputs": [],
   "source": [
    "from sklearn.cluster import KMeans\n",
    "from sklearn.metrics import silhouette_samples, silhouette_score\n",
    "from sklearn.model_selection import train_test_split\n",
    "from sklearn.preprocessing import LabelEncoder\n",
    "from sklearn.preprocessing import StandardScaler\n",
    "from sklearn.metrics import accuracy_score\n",
    "import pandas as pd\n",
    "import numpy as np\n",
    "import matplotlib.pyplot as plt\n",
    "import seaborn as sns\n",
    "\n",
    "\n",
    "dfFull = pd.read_csv('../Datasets/dePrimero.csv')\n",
    "dftest = pd.read_parquet('../proyecto_ML/test.parquet')\n",
    "# crear columna de y category_price con valor 1 si es < 1000\n",
    "dfFull['category_price'] = np.where(dfFull['price'] >= 0, 0, 0)\n",
    "dfFull['category_price'] = np.where(dfFull['price'] < 1000, 0, dfFull['category_price']*1)\n",
    "dfFull['category_price'] = np.where((dfFull['price'] >= 1000) & (dfFull['price'] < 2000), 1, dfFull['category_price']*1 )\n",
    "dfFull['category_price'] = np.where(dfFull['price'] >= 2000, 2, dfFull['category_price']*1)\n",
    "#Codificar a Ordinar las columnas region, state y type manteniendo la codificacion en test y train\n",
    "concat = pd.concat([dfFull, dftest], axis=0, ignore_index=True)\n",
    "# Codificar state\n",
    "enc_state = LabelEncoder()\n",
    "enc_state.fit(concat['state'])\n",
    "dfFull['stateord'] = enc_state.transform(dfFull['state'])\n",
    "dftest['stateord'] = enc_state.transform(dftest['state'])\n",
    "# Codificar region\n",
    "enc_region = LabelEncoder()\n",
    "enc_region.fit(concat['region'])\n",
    "dfFull['regionord'] = enc_region.transform(dfFull['region'])\n",
    "dftest['regionord'] = enc_region.transform(dftest['region'])\n",
    "# Codificar type\n",
    "enc_type = LabelEncoder()\n",
    "enc_type.fit(concat['type'])\n",
    "dfFull['typeord'] = enc_type.transform(dfFull['type'])\n",
    "dftest['typeord'] = enc_type.transform(dftest['type'])\n",
    "# Codificar laundry_options\n",
    "dfFull.laundry_options.replace({np.nan: None}, inplace=True) #del cvs carga nan y del parquet carga None\n",
    "enc_laundry_options = LabelEncoder()\n",
    "enc_laundry_options.fit(concat['laundry_options'])\n",
    "dfFull['laundry_optionsord'] = enc_laundry_options.transform(dfFull['laundry_options'])\n",
    "dftest['laundry_optionsord'] = enc_laundry_options.transform(dftest['laundry_options'])\n",
    "# Codificar parking_options\n",
    "dfFull.parking_options.replace({np.nan: None}, inplace=True) #del cvs carga nan y del parquet carga None\n",
    "enc_parking_options = LabelEncoder()\n",
    "enc_parking_options.fit(concat['parking_options'])\n",
    "dfFull['parking_optionsord'] = enc_parking_options.transform(dfFull['parking_options'])\n",
    "dftest['parking_optionsord'] = enc_parking_options.transform(dftest['parking_options'])\n"
   ]
  },
  {
   "cell_type": "markdown",
   "metadata": {},
   "source": [
    "Se crean las variables X e y del archivo de entrenamiento con las columnas seleccionadas y se crea otro dataframe con las mismas columnas en base al archivo de pruebas. <br>\n",
    "Se verifica por nulos existentes."
   ]
  },
  {
   "cell_type": "code",
   "execution_count": 2,
   "metadata": {},
   "outputs": [
    {
     "data": {
      "text/html": [
       "<div>\n",
       "<style scoped>\n",
       "    .dataframe tbody tr th:only-of-type {\n",
       "        vertical-align: middle;\n",
       "    }\n",
       "\n",
       "    .dataframe tbody tr th {\n",
       "        vertical-align: top;\n",
       "    }\n",
       "\n",
       "    .dataframe thead th {\n",
       "        text-align: right;\n",
       "    }\n",
       "</style>\n",
       "<table border=\"1\" class=\"dataframe\">\n",
       "  <thead>\n",
       "    <tr style=\"text-align: right;\">\n",
       "      <th></th>\n",
       "      <th>sqfeet</th>\n",
       "      <th>baths</th>\n",
       "      <th>stateord</th>\n",
       "      <th>typeord</th>\n",
       "    </tr>\n",
       "  </thead>\n",
       "  <tbody>\n",
       "  </tbody>\n",
       "</table>\n",
       "</div>"
      ],
      "text/plain": [
       "Empty DataFrame\n",
       "Columns: [sqfeet, baths, stateord, typeord]\n",
       "Index: []"
      ]
     },
     "execution_count": 2,
     "metadata": {},
     "output_type": "execute_result"
    }
   ],
   "source": [
    "xtest = dftest[['sqfeet',  'baths','stateord','typeord']]\n",
    "X = dfFull[['sqfeet', 'beds', 'baths','stateord','regionord','typeord','laundry_optionsord','parking_optionsord','lat','long']]\n",
    "y = dfFull['category_price']\n",
    "xtest[xtest.isna().any(axis=1)]"
   ]
  },
  {
   "cell_type": "markdown",
   "metadata": {},
   "source": [
    "Se utiliza Scaler para transformar los datos de las columnas. <br>\n",
    "Se verifican los datos transformados para su seleccion para el modelo."
   ]
  },
  {
   "cell_type": "code",
   "execution_count": 3,
   "metadata": {},
   "outputs": [
    {
     "data": {
      "text/html": [
       "<div>\n",
       "<style scoped>\n",
       "    .dataframe tbody tr th:only-of-type {\n",
       "        vertical-align: middle;\n",
       "    }\n",
       "\n",
       "    .dataframe tbody tr th {\n",
       "        vertical-align: top;\n",
       "    }\n",
       "\n",
       "    .dataframe thead th {\n",
       "        text-align: right;\n",
       "    }\n",
       "</style>\n",
       "<table border=\"1\" class=\"dataframe\">\n",
       "  <thead>\n",
       "    <tr style=\"text-align: right;\">\n",
       "      <th></th>\n",
       "      <th>0</th>\n",
       "      <th>1</th>\n",
       "      <th>2</th>\n",
       "      <th>3</th>\n",
       "    </tr>\n",
       "  </thead>\n",
       "  <tbody>\n",
       "    <tr>\n",
       "      <th>count</th>\n",
       "      <td>3.849800e+04</td>\n",
       "      <td>3.849800e+04</td>\n",
       "      <td>3.849800e+04</td>\n",
       "      <td>3.849800e+04</td>\n",
       "    </tr>\n",
       "    <tr>\n",
       "      <th>mean</th>\n",
       "      <td>7.198080e-17</td>\n",
       "      <td>5.536984e-17</td>\n",
       "      <td>2.122511e-17</td>\n",
       "      <td>-6.515185e-17</td>\n",
       "    </tr>\n",
       "    <tr>\n",
       "      <th>std</th>\n",
       "      <td>1.000013e+00</td>\n",
       "      <td>1.000013e+00</td>\n",
       "      <td>1.000013e+00</td>\n",
       "      <td>1.000013e+00</td>\n",
       "    </tr>\n",
       "    <tr>\n",
       "      <th>min</th>\n",
       "      <td>-1.458767e+00</td>\n",
       "      <td>-2.119523e+00</td>\n",
       "      <td>-1.561331e+00</td>\n",
       "      <td>-4.203431e-01</td>\n",
       "    </tr>\n",
       "    <tr>\n",
       "      <th>25%</th>\n",
       "      <td>-3.669441e-01</td>\n",
       "      <td>-6.913970e-01</td>\n",
       "      <td>-9.600298e-01</td>\n",
       "      <td>-4.203431e-01</td>\n",
       "    </tr>\n",
       "    <tr>\n",
       "      <th>50%</th>\n",
       "      <td>-8.015867e-02</td>\n",
       "      <td>-6.913970e-01</td>\n",
       "      <td>-9.148405e-02</td>\n",
       "      <td>-4.203431e-01</td>\n",
       "    </tr>\n",
       "    <tr>\n",
       "      <th>75%</th>\n",
       "      <td>2.153614e-01</td>\n",
       "      <td>7.367285e-01</td>\n",
       "      <td>9.774953e-01</td>\n",
       "      <td>-4.203431e-01</td>\n",
       "    </tr>\n",
       "    <tr>\n",
       "      <th>max</th>\n",
       "      <td>1.371911e+02</td>\n",
       "      <td>1.049899e+02</td>\n",
       "      <td>1.779230e+00</td>\n",
       "      <td>3.372184e+00</td>\n",
       "    </tr>\n",
       "  </tbody>\n",
       "</table>\n",
       "</div>"
      ],
      "text/plain": [
       "                  0             1             2             3\n",
       "count  3.849800e+04  3.849800e+04  3.849800e+04  3.849800e+04\n",
       "mean   7.198080e-17  5.536984e-17  2.122511e-17 -6.515185e-17\n",
       "std    1.000013e+00  1.000013e+00  1.000013e+00  1.000013e+00\n",
       "min   -1.458767e+00 -2.119523e+00 -1.561331e+00 -4.203431e-01\n",
       "25%   -3.669441e-01 -6.913970e-01 -9.600298e-01 -4.203431e-01\n",
       "50%   -8.015867e-02 -6.913970e-01 -9.148405e-02 -4.203431e-01\n",
       "75%    2.153614e-01  7.367285e-01  9.774953e-01 -4.203431e-01\n",
       "max    1.371911e+02  1.049899e+02  1.779230e+00  3.372184e+00"
      ]
     },
     "execution_count": 3,
     "metadata": {},
     "output_type": "execute_result"
    }
   ],
   "source": [
    "scaler = StandardScaler()\n",
    "scaled_df = scaler.fit_transform(xtest)\n",
    "\n",
    "pd.DataFrame(scaled_df).describe()"
   ]
  },
  {
   "cell_type": "markdown",
   "metadata": {},
   "source": [
    "Se utiliza el modelo Kmean para el entrenamiento y se verifica su resultado con Inertia."
   ]
  },
  {
   "cell_type": "code",
   "execution_count": 4,
   "metadata": {},
   "outputs": [
    {
     "data": {
      "text/plain": [
       "88641.5655287853"
      ]
     },
     "execution_count": 4,
     "metadata": {},
     "output_type": "execute_result"
    }
   ],
   "source": [
    "model = KMeans(n_clusters=3,\n",
    "               init='k-means++',\n",
    "               n_init=10,\n",
    "               max_iter=300,\n",
    "               tol=0.0001,\n",
    "               #precompute_distances='auto',\n",
    "               verbose=0,\n",
    "               random_state=42,\n",
    "               copy_x=True)\n",
    "\n",
    "model.fit(scaled_df)\n",
    "model.inertia_"
   ]
  },
  {
   "cell_type": "markdown",
   "metadata": {},
   "source": [
    "Se entrena el modelo con multiples números de clustes y se grafica para seleccionar el mejor número de clusters."
   ]
  },
  {
   "cell_type": "code",
   "execution_count": 5,
   "metadata": {},
   "outputs": [
    {
     "data": {
      "text/plain": [
       "Text(0, 0.5, 'Inertia or SSE')"
      ]
     },
     "execution_count": 5,
     "metadata": {},
     "output_type": "execute_result"
    },
    {
     "data": {
      "image/png": "[encoded data removed]",
      "text/plain": [
       "<Figure size 1300x500 with 1 Axes>"
      ]
     },
     "metadata": {},
     "output_type": "display_data"
    }
   ],
   "source": [
    "clusters = range(1, 20)\n",
    "sse=[]\n",
    "for cluster in clusters:\n",
    "    model = KMeans(n_clusters=cluster,\n",
    "               init='k-means++',\n",
    "               n_init=10,\n",
    "               max_iter=300,\n",
    "               tol=0.0001,\n",
    "               #precompute_distances='auto',\n",
    "               verbose=0,\n",
    "               random_state=42,\n",
    "               copy_x=True)\n",
    "\n",
    "    model.fit(scaled_df)\n",
    "    sse.append(model.inertia_)\n",
    "\n",
    "sse_df = pd.DataFrame(np.column_stack((clusters, sse)), columns=['cluster', 'SSE'])\n",
    "fig, ax = plt.subplots(figsize=(13, 5))\n",
    "ax.plot(sse_df['cluster'], sse_df['SSE'], marker='o')\n",
    "ax.set_xlabel('Number of clusters')\n",
    "ax.set_ylabel('Inertia or SSE')"
   ]
  },
  {
   "cell_type": "markdown",
   "metadata": {},
   "source": [
    "Se vuelve a ejecutar el modelo con 3 como número de clustes."
   ]
  },
  {
   "cell_type": "code",
   "execution_count": 7,
   "metadata": {},
   "outputs": [
    {
     "data": {
      "text/html": [
       "<style>#sk-container-id-1 {color: black;background-color: white;}#sk-container-id-1 pre{padding: 0;}#sk-container-id-1 div.sk-toggleable {background-color: white;}#sk-container-id-1 label.sk-toggleable__label {cursor: pointer;display: block;width: 100%;margin-bottom: 0;padding: 0.3em;box-sizing: border-box;text-align: center;}#sk-container-id-1 label.sk-toggleable__label-arrow:before {content: \"▸\";float: left;margin-right: 0.25em;color: #696969;}#sk-container-id-1 label.sk-toggleable__label-arrow:hover:before {color: black;}#sk-container-id-1 div.sk-estimator:hover label.sk-toggleable__label-arrow:before {color: black;}#sk-container-id-1 div.sk-toggleable__content {max-height: 0;max-width: 0;overflow: hidden;text-align: left;background-color: #f0f8ff;}#sk-container-id-1 div.sk-toggleable__content pre {margin: 0.2em;color: black;border-radius: 0.25em;background-color: #f0f8ff;}#sk-container-id-1 input.sk-toggleable__control:checked~div.sk-toggleable__content {max-height: 200px;max-width: 100%;overflow: auto;}#sk-container-id-1 input.sk-toggleable__control:checked~label.sk-toggleable__label-arrow:before {content: \"▾\";}#sk-container-id-1 div.sk-estimator input.sk-toggleable__control:checked~label.sk-toggleable__label {background-color: #d4ebff;}#sk-container-id-1 div.sk-label input.sk-toggleable__control:checked~label.sk-toggleable__label {background-color: #d4ebff;}#sk-container-id-1 input.sk-hidden--visually {border: 0;clip: rect(1px 1px 1px 1px);clip: rect(1px, 1px, 1px, 1px);height: 1px;margin: -1px;overflow: hidden;padding: 0;position: absolute;width: 1px;}#sk-container-id-1 div.sk-estimator {font-family: monospace;background-color: #f0f8ff;border: 1px dotted black;border-radius: 0.25em;box-sizing: border-box;margin-bottom: 0.5em;}#sk-container-id-1 div.sk-estimator:hover {background-color: #d4ebff;}#sk-container-id-1 div.sk-parallel-item::after {content: \"\";width: 100%;border-bottom: 1px solid gray;flex-grow: 1;}#sk-container-id-1 div.sk-label:hover label.sk-toggleable__label {background-color: #d4ebff;}#sk-container-id-1 div.sk-serial::before {content: \"\";position: absolute;border-left: 1px solid gray;box-sizing: border-box;top: 0;bottom: 0;left: 50%;z-index: 0;}#sk-container-id-1 div.sk-serial {display: flex;flex-direction: column;align-items: center;background-color: white;padding-right: 0.2em;padding-left: 0.2em;position: relative;}#sk-container-id-1 div.sk-item {position: relative;z-index: 1;}#sk-container-id-1 div.sk-parallel {display: flex;align-items: stretch;justify-content: center;background-color: white;position: relative;}#sk-container-id-1 div.sk-item::before, #sk-container-id-1 div.sk-parallel-item::before {content: \"\";position: absolute;border-left: 1px solid gray;box-sizing: border-box;top: 0;bottom: 0;left: 50%;z-index: -1;}#sk-container-id-1 div.sk-parallel-item {display: flex;flex-direction: column;z-index: 1;position: relative;background-color: white;}#sk-container-id-1 div.sk-parallel-item:first-child::after {align-self: flex-end;width: 50%;}#sk-container-id-1 div.sk-parallel-item:last-child::after {align-self: flex-start;width: 50%;}#sk-container-id-1 div.sk-parallel-item:only-child::after {width: 0;}#sk-container-id-1 div.sk-dashed-wrapped {border: 1px dashed gray;margin: 0 0.4em 0.5em 0.4em;box-sizing: border-box;padding-bottom: 0.4em;background-color: white;}#sk-container-id-1 div.sk-label label {font-family: monospace;font-weight: bold;display: inline-block;line-height: 1.2em;}#sk-container-id-1 div.sk-label-container {text-align: center;}#sk-container-id-1 div.sk-container {/* jupyter's `normalize.less` sets `[hidden] { display: none; }` but bootstrap.min.css set `[hidden] { display: none !important; }` so we also need the `!important` here to be able to override the default hidden behavior on the sphinx rendered scikit-learn.org. See: https://github.com/scikit-learn/scikit-learn/issues/21755 */display: inline-block !important;position: relative;}#sk-container-id-1 div.sk-text-repr-fallback {display: none;}</style><div id=\"sk-container-id-1\" class=\"sk-top-container\"><div class=\"sk-text-repr-fallback\"><pre>KMeans(n_clusters=3, n_init=10, random_state=42)</pre><b>In a Jupyter environment, please rerun this cell to show the HTML representation or trust the notebook. <br />On GitHub, the HTML representation is unable to render, please try loading this page with nbviewer.org.</b></div><div class=\"sk-container\" hidden><div class=\"sk-item\"><div class=\"sk-estimator sk-toggleable\"><input class=\"sk-toggleable__control sk-hidden--visually\" id=\"sk-estimator-id-1\" type=\"checkbox\" checked><label for=\"sk-estimator-id-1\" class=\"sk-toggleable__label sk-toggleable__label-arrow\">KMeans</label><div class=\"sk-toggleable__content\"><pre>KMeans(n_clusters=3, n_init=10, random_state=42)</pre></div></div></div></div></div>"
      ],
      "text/plain": [
       "KMeans(n_clusters=3, n_init=10, random_state=42)"
      ]
     },
     "execution_count": 7,
     "metadata": {},
     "output_type": "execute_result"
    }
   ],
   "source": [
    "model = KMeans(n_clusters=3,\n",
    "               init='k-means++',\n",
    "               n_init=10,\n",
    "               max_iter=300,\n",
    "               tol=0.0001,\n",
    "               #precompute_distances='auto',\n",
    "               verbose=0,\n",
    "               random_state=42,\n",
    "               copy_x=True)\n",
    "\n",
    "model.fit(scaled_df)"
   ]
  },
  {
   "cell_type": "markdown",
   "metadata": {},
   "source": [
    "Se obtiene la precicción del modelo."
   ]
  },
  {
   "cell_type": "code",
   "execution_count": 8,
   "metadata": {},
   "outputs": [
    {
     "data": {
      "text/plain": [
       "array([0, 2, 1, ..., 1, 0, 1])"
      ]
     },
     "execution_count": 8,
     "metadata": {},
     "output_type": "execute_result"
    }
   ],
   "source": [
    "pred = model.predict(scaled_df)\n",
    "pred"
   ]
  },
  {
   "cell_type": "markdown",
   "metadata": {},
   "source": [
    "Se obtiene la puntuación Silhouette."
   ]
  },
  {
   "cell_type": "code",
   "execution_count": 10,
   "metadata": {},
   "outputs": [
    {
     "name": "stdout",
     "output_type": "stream",
     "text": [
      "Silhouette Score(n=3): 0.38849173410454874\n"
     ]
    }
   ],
   "source": [
    "from sklearn.metrics import silhouette_score\n",
    "print(f'Silhouette Score(n=3): {silhouette_score(scaled_df, pred)}')"
   ]
  },
  {
   "cell_type": "markdown",
   "metadata": {},
   "source": [
    "Se genera el archivo con los resultados para enviar."
   ]
  },
  {
   "cell_type": "code",
   "execution_count": 11,
   "metadata": {},
   "outputs": [],
   "source": [
    "dfpred = pd.DataFrame({'pred': pred})\n",
    "dfpred.to_csv('../Datasets/naguieta.csv', index=False)"
   ]
  }
 ],
 "metadata": {
  "kernelspec": {
   "display_name": "Python 3.10.4 64-bit",
   "language": "python",
   "name": "python3"
  },
  "language_info": {
   "codemirror_mode": {
    "name": "ipython",
    "version": 3
   },
   "file_extension": ".py",
   "mimetype": "text/x-python",
   "name": "python",
   "nbconvert_exporter": "python",
   "pygments_lexer": "ipython3",
   "version": "3.10.4"
  },
  "orig_nbformat": 4,
  "vscode": {
   "interpreter": {
    "hash": "012f29fa124df80e053fa08be2a3f0c6744604e00976ac4c44ee25b4dd9797b6"
   }
  }
 },
 "nbformat": 4,
 "nbformat_minor": 2
}
